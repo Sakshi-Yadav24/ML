{
 "cells": [
  {
   "cell_type": "code",
   "execution_count": 6,
   "id": "5c370b31-6067-4829-a219-f5de3017e252",
   "metadata": {},
   "outputs": [],
   "source": [
    "import pandas as pd\n",
    "import numpy as np\n",
    "from math import log2 \n",
    "import pprint"
   ]
  },
  {
   "cell_type": "code",
   "execution_count": 7,
   "id": "9adc9b19-0b60-45b5-9996-dbdbb170527f",
   "metadata": {},
   "outputs": [],
   "source": [
    "data = pd.DataFrame([\n",
    "    ['Sunny', 'Hot', 'High', 'Weak', 'No'], \n",
    "    ['Sunny', 'Hot', 'High', 'Strong', 'No'], \n",
    "    ['Overcast', 'Hot', 'High', 'Weak', 'Yes'], \n",
    "    ['Rain', 'Mild', 'High', 'Weak', 'Yes'], \n",
    "    ['Rain', 'Cool', 'Normal', 'Weak', 'Yes'], \n",
    "    ['Rain', 'Cool', 'Normal', 'Strong', 'No'], \n",
    "    ['Overcast', 'Cool', 'Normal', 'Strong', 'Yes'], \n",
    "    ['Sunny', 'Mild', 'High', 'Weak', 'No' ], \n",
    "    ['Sunny', 'Cool', 'Normal', 'Weak', 'Yes'], \n",
    "    ['Rain', 'Mild', 'Normal', 'Weak', 'Yes'], \n",
    "    ['Sunny', 'Mild', 'Normal', 'Strong', 'Yes'], \n",
    "    ['Overcast', 'Mild', 'High', 'Strong', 'Yes'], \n",
    "    ['Overcast', 'Hot', 'Normal', 'Weak', 'Yes'], ['Rain', 'Mild', 'High', 'Strong', 'No']\n",
    "], columns=['Outlook', 'Temperature', 'Humidity', 'Wind', 'PlayTennis'])\n"
   ]
  },
  {
   "cell_type": "code",
   "execution_count": 8,
   "id": "26858280-c190-454f-86cc-aa0540040230",
   "metadata": {},
   "outputs": [],
   "source": [
    "def entropy(target_col):\n",
    "    values, counts = np.unique(target_col, return_counts=True) \n",
    "    entropy = sum([-p * log2(p) for p in counts/ counts.sum()]) \n",
    "    return entropy"
   ]
  },
  {
   "cell_type": "code",
   "execution_count": 9,
   "id": "20d5da2d-a2a0-41e1-8eb6-ef229bb9c38e",
   "metadata": {},
   "outputs": [],
   "source": [
    "def info_gain(data, split_attribute_name, target_name=\"PlayTennis\"): \n",
    "    total_entropy = entropy(data[target_name])\n",
    "    vals, counts = np.unique(data[split_attribute_name], return_counts=True)"
   ]
  },
  {
   "cell_type": "code",
   "execution_count": 10,
   "id": "32a03fac-c2a0-4606-aeff-71dc4329c0b4",
   "metadata": {},
   "outputs": [],
   "source": [
    "def info_gain(data, split_attribute_name, target_name=\"PlayTennis\"): \n",
    "    total_entropy = entropy(data[target_name])\n",
    "    vals, counts = np.unique (data[split_attribute_name], return_counts=True)\n",
    "    weighted_entropy = sum([\n",
    "        (counts[i]/sum(counts)) *\n",
    "        entropy(data[data[split_attribute_name] == vals[i]][target_name])\n",
    "        for i in range(len(vals))\n",
    "    ])\n",
    "    information_gain = total_entropy - weighted_entropy\n",
    "    return information_gain"
   ]
  },
  {
   "cell_type": "code",
   "execution_count": 11,
   "id": "71542da8-e8c4-4a1b-be0f-a548e85e7d89",
   "metadata": {},
   "outputs": [],
   "source": [
    "def ID3(data, original_data, features, target_attribute_name=\"PlayTennis\", parent_node_class=None):\n",
    "    if len(np.unique(data[target_attribute_name])) <= 1:\n",
    "        return np.unique(data[target_attribute_name])[0]\n",
    "    elif len(data) == 0:\n",
    "        return np.unique (original_data[target_attribute_name])[\n",
    "            np.argmax(np.unique(original_data[target_attribute_name], return_counts=True)[1])\n",
    "        ]\n",
    "    elif len(features) == 0:\n",
    "        return parent_node_class\n",
    "    else:\n",
    "        parent_node_class = np.unique(data[target_attribute_name])[\n",
    "            np.argmax(np.unique (data[target_attribute_name], return_counts=True)[1])\n",
    "        ]\n",
    "    item_values = [info_gain(data, feature, target_attribute_name) for feature in features] \n",
    "    best_feature_index = np.argmax(item_values) \n",
    "    best_feature = features[best_feature_index]\n",
    "    tree = {best_feature: {}}\n",
    "    \n",
    "    for value in np.unique(data[best_feature]):\n",
    "        sub_data = data[data[best_feature] == value]\n",
    "        new_features = features[:best_feature_index] + features [best_feature_index + 1:]\n",
    "        subtree= ID3(sub_data, original_data, new_features, target_attribute_name, parent_node_class)\n",
    "        tree[best_feature][value] = subtree\n",
    "    return tree"
   ]
  },
  {
   "cell_type": "code",
   "execution_count": 12,
   "id": "7d6698fb-e01f-4f6e-b23a-b42de2158221",
   "metadata": {},
   "outputs": [],
   "source": [
    "features = list(data.columns)\n",
    "features.remove(\"PlayTennis\")\n",
    "tree = ID3(data, data, features)"
   ]
  },
  {
   "cell_type": "code",
   "execution_count": 13,
   "id": "822d564a-6c52-493b-855c-456bf3991f56",
   "metadata": {},
   "outputs": [
    {
     "name": "stdout",
     "output_type": "stream",
     "text": [
      "{'Outlook': {'Overcast': 'Yes',\n",
      "             'Rain': {'Wind': {'Strong': 'No', 'Weak': 'Yes'}},\n",
      "             'Sunny': {'Humidity': {'High': 'No', 'Normal': 'Yes'}}}}\n"
     ]
    }
   ],
   "source": [
    "import pprint\n",
    "pprint.pprint(tree)"
   ]
  },
  {
   "cell_type": "code",
   "execution_count": 14,
   "id": "90195810-3357-4f05-900f-d311ddd5c53f",
   "metadata": {},
   "outputs": [],
   "source": [
    "def predict(query, tree, default='Yes'):\n",
    "    for attr in query:\n",
    "        if attr in tree:\n",
    "            try:\n",
    "                result = tree[attr][query[attr]]\n",
    "            except:\n",
    "                return default\n",
    "            if isinstance(result, dict):\n",
    "                return predict(query, result)\n",
    "            else:\n",
    "                return result\n",
    "    return default"
   ]
  },
  {
   "cell_type": "code",
   "execution_count": 15,
   "id": "cad2d8e0-0329-4f0c-8794-7ad57ba0b0cf",
   "metadata": {},
   "outputs": [
    {
     "name": "stdout",
     "output_type": "stream",
     "text": [
      "\n",
      "Predicted Output for sample is:  No\n"
     ]
    }
   ],
   "source": [
    "sample = {'Outlook': 'Sunny', 'Temperature': 'Cool', 'Humidity': 'High', 'Wind': 'Strong'} \n",
    "prediction = predict(sample, tree)\n",
    "print(\"\\nPredicted Output for sample is: \", prediction)"
   ]
  }
 ],
 "metadata": {
  "kernelspec": {
   "display_name": "Python 3 (ipykernel)",
   "language": "python",
   "name": "python3"
  },
  "language_info": {
   "codemirror_mode": {
    "name": "ipython",
    "version": 3
   },
   "file_extension": ".py",
   "mimetype": "text/x-python",
   "name": "python",
   "nbconvert_exporter": "python",
   "pygments_lexer": "ipython3",
   "version": "3.12.2"
  }
 },
 "nbformat": 4,
 "nbformat_minor": 5
}
